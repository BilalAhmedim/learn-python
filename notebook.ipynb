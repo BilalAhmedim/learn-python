{
 "cells": [
  {
   "cell_type": "markdown",
   "id": "piano-strip",
   "metadata": {},
   "source": [
    "Some Method and functions"
   ]
  },
  {
   "cell_type": "code",
   "execution_count": 5,
   "id": "fossil-vegetation",
   "metadata": {},
   "outputs": [],
   "source": [
    "import random, time , copy"
   ]
  },
  {
   "cell_type": "code",
   "execution_count": 6,
   "id": "spoken-driver",
   "metadata": {},
   "outputs": [],
   "source": [
    "WIDTH = 60\n",
    "HEIGHT = 20"
   ]
  },
  {
   "cell_type": "code",
   "execution_count": 7,
   "id": "appointed-reduction",
   "metadata": {},
   "outputs": [],
   "source": [
    "nextCells = []\n",
    "for x in range(WIDTH):\n",
    "    column = []\n",
    "    for y in range(HEIGHT):\n",
    "        if random.randint(0,1) == 0:\n",
    "            column.append('#')\n",
    "        else:\n",
    "            column.append(' ')\n",
    "    nextCells.append(column)"
   ]
  },
  {
   "cell_type": "code",
   "execution_count": null,
   "id": "sustained-reaction",
   "metadata": {},
   "outputs": [],
   "source": [
    "while True:\n",
    "    print('\\n\\n\\n\\n\\n')\n",
    "    currentCells = copy.deepcopy(nextCells)\n",
    "    \n",
    "    for y in range(HEIGHT):\n",
    "        for x in range(WIDTH):\n",
    "            print(currentCells[x][y], end='')\n",
    "        print()\n",
    "    for x in range(WIDTH):\n",
    "        for y in range(HEIGTH):\n",
    "            "
   ]
  }
 ],
 "metadata": {
  "kernelspec": {
   "display_name": "Python 3",
   "language": "python",
   "name": "python3"
  },
  "language_info": {
   "codemirror_mode": {
    "name": "ipython",
    "version": 3
   },
   "file_extension": ".py",
   "mimetype": "text/x-python",
   "name": "python",
   "nbconvert_exporter": "python",
   "pygments_lexer": "ipython3",
   "version": "3.9.2"
  }
 },
 "nbformat": 4,
 "nbformat_minor": 5
}
