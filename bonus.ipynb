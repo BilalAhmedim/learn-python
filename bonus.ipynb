{
 "cells": [
  {
   "cell_type": "markdown",
   "id": "under-combining",
   "metadata": {},
   "source": [
    "Automations Python\n",
    "Chanpter 2 Bounus "
   ]
  },
  {
   "cell_type": "code",
   "execution_count": 8,
   "id": "imported-organic",
   "metadata": {},
   "outputs": [],
   "source": [
    "vars =1.51"
   ]
  },
  {
   "cell_type": "code",
   "execution_count": 9,
   "id": "governmental-summit",
   "metadata": {},
   "outputs": [
    {
     "data": {
      "text/plain": [
       "2"
      ]
     },
     "execution_count": 9,
     "metadata": {},
     "output_type": "execute_result"
    }
   ],
   "source": [
    "round(vars)"
   ]
  },
  {
   "cell_type": "code",
   "execution_count": 10,
   "id": "purple-termination",
   "metadata": {},
   "outputs": [
    {
     "data": {
      "text/plain": [
       "1.51"
      ]
     },
     "execution_count": 10,
     "metadata": {},
     "output_type": "execute_result"
    }
   ],
   "source": [
    "abs(vars)"
   ]
  },
  {
   "cell_type": "markdown",
   "id": "cheap-sitting",
   "metadata": {},
   "source": [
    "LOCAL VS GLOBAL VARIABLES"
   ]
  },
  {
   "cell_type": "code",
   "execution_count": 14,
   "id": "mental-turtle",
   "metadata": {},
   "outputs": [
    {
     "name": "stdout",
     "output_type": "stream",
     "text": [
      "bacon local\n",
      "spam local\n",
      "bacon local\n",
      "global\n"
     ]
    }
   ],
   "source": [
    "def spam():\n",
    "    eggs = 'spam local'\n",
    "    print(eggs)# prints 'spam local'\n",
    "\n",
    "def bacon():\n",
    "    eggs = 'bacon local'\n",
    "    print(eggs)# prints 'bacon local'\n",
    "    spam()\n",
    "    print(eggs)# prints 'bacon local'\n",
    "\n",
    "eggs = 'global'\n",
    "bacon()\n",
    "print(eggs)# prints 'global'"
   ]
  },
  {
   "cell_type": "code",
   "execution_count": null,
   "id": "advised-december",
   "metadata": {},
   "outputs": [],
   "source": []
  }
 ],
 "metadata": {
  "kernelspec": {
   "display_name": "Python 3",
   "language": "python",
   "name": "python3"
  },
  "language_info": {
   "codemirror_mode": {
    "name": "ipython",
    "version": 3
   },
   "file_extension": ".py",
   "mimetype": "text/x-python",
   "name": "python",
   "nbconvert_exporter": "python",
   "pygments_lexer": "ipython3",
   "version": "3.9.2"
  }
 },
 "nbformat": 4,
 "nbformat_minor": 5
}
